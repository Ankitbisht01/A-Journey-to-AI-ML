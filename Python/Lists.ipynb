{
 "cells": [
  {
   "cell_type": "markdown",
   "id": "e9fac8c4",
   "metadata": {},
   "source": [
    "# Lists in Python\n",
    "This notebook covers the basics of lists in Python, including creation, indexing, slicing, operations, and common functions."
   ]
  },
  {
   "cell_type": "markdown",
   "id": "b21668b3",
   "metadata": {},
   "source": [
    "## 1. What is a List?\n",
    "A list is a collection of items which is ordered and mutable. Lists can contain elements of different types."
   ]
  },
  {
   "cell_type": "code",
   "execution_count": 37,
   "id": "aac1a1a1",
   "metadata": {},
   "outputs": [
    {
     "name": "stdout",
     "output_type": "stream",
     "text": [
      "[1, 2, 3, 'Four', 'Five', True, False]\n"
     ]
    }
   ],
   "source": [
    "my_list = [1, 2, 3, 'Four', 'Five', True, False]\n",
    "print(my_list)"
   ]
  },
  {
   "cell_type": "markdown",
   "id": "cc22d5bb",
   "metadata": {},
   "source": [
    "## 2. Accessing List Elements (Indexing & Slicing)\n",
    "You can access elements using indices and slices."
   ]
  },
  {
   "cell_type": "code",
   "execution_count": 38,
   "id": "05f0349a",
   "metadata": {},
   "outputs": [
    {
     "name": "stdout",
     "output_type": "stream",
     "text": [
      "1\n",
      "False\n",
      "[2, 3, 'Four']\n"
     ]
    }
   ],
   "source": [
    "print(my_list[0])    # First element\n",
    "print(my_list[-1])   # Last element\n",
    "print(my_list[1:4])  # Slice from index 1 to 3"
   ]
  },
  {
   "cell_type": "markdown",
   "id": "615c7e99",
   "metadata": {},
   "source": [
    "## 3. Modifying Lists\n",
    "Lists are mutable, so you can change their contents."
   ]
  },
  {
   "cell_type": "code",
   "execution_count": 39,
   "id": "ee23cd56",
   "metadata": {},
   "outputs": [
    {
     "name": "stdout",
     "output_type": "stream",
     "text": [
      "[100, 2, 3, 'Four', 'Five', True, False]\n"
     ]
    }
   ],
   "source": [
    "my_list[0] = 100\n",
    "print(my_list)"
   ]
  },
  {
   "cell_type": "markdown",
   "id": "99b7ed31",
   "metadata": {},
   "source": [
    "## 4. Adding Elements\n",
    "Use append, insert, or extend to add elements."
   ]
  },
  {
   "cell_type": "code",
   "execution_count": 40,
   "id": "1f5d38a7",
   "metadata": {},
   "outputs": [
    {
     "name": "stdout",
     "output_type": "stream",
     "text": [
      "[100, 2, 'Inserted', 3, 'Four', 'Five', True, False, 'New', 7, 8]\n"
     ]
    }
   ],
   "source": [
    "my_list.append('New')\n",
    "my_list.insert(2, 'Inserted')\n",
    "my_list.extend([7, 8])\n",
    "print(my_list)"
   ]
  },
  {
   "cell_type": "markdown",
   "id": "cfb5dbc3",
   "metadata": {},
   "source": [
    "## 5. Removing Elements\n",
    "Use remove, pop, or del to remove elements."
   ]
  },
  {
   "cell_type": "code",
   "execution_count": 41,
   "id": "109fdecd",
   "metadata": {},
   "outputs": [
    {
     "name": "stdout",
     "output_type": "stream",
     "text": [
      "[2, 'Inserted', 'Five', True, False, 'New', 7, 8]\n"
     ]
    }
   ],
   "source": [
    "my_list.remove('Four')   # Remove by value\n",
    "my_list.pop(3)          # Remove by index\n",
    "del my_list[0]          # Delete by index\n",
    "print(my_list)"
   ]
  },
  {
   "cell_type": "markdown",
   "id": "6bbeb95b",
   "metadata": {},
   "source": [
    "## 6. List Functions & Methods\n",
    "Some useful functions and methods for lists:"
   ]
  },
  {
   "cell_type": "code",
   "execution_count": 42,
   "id": "baae0d03",
   "metadata": {},
   "outputs": [
    {
     "name": "stdout",
     "output_type": "stream",
     "text": [
      "7\n",
      "1\n",
      "9\n",
      "25\n",
      "[1, 1, 2, 3, 4, 5, 9]\n",
      "[9, 5, 4, 3, 2, 1, 1]\n"
     ]
    }
   ],
   "source": [
    "numbers = [3, 1, 4, 1, 5, 9, 2]\n",
    "print(len(numbers))        # Length\n",
    "print(min(numbers))        # Minimum\n",
    "print(max(numbers))        # Maximum\n",
    "print(sum(numbers))        # Sum\n",
    "numbers.sort()\n",
    "print(numbers)             # Sorted list\n",
    "numbers.reverse()\n",
    "print(numbers)             # Reversed list"
   ]
  },
  {
   "cell_type": "markdown",
   "id": "26a32a40",
   "metadata": {},
   "source": [
    "## 7. Looping Through a List\n",
    "You can loop through a list using a for loop."
   ]
  },
  {
   "cell_type": "code",
   "execution_count": 43,
   "id": "cafcd00b",
   "metadata": {},
   "outputs": [
    {
     "name": "stdout",
     "output_type": "stream",
     "text": [
      "2\n",
      "Inserted\n",
      "Five\n",
      "True\n",
      "False\n",
      "New\n",
      "7\n",
      "8\n"
     ]
    }
   ],
   "source": [
    "for item in my_list:\n",
    "    print(item)"
   ]
  },
  {
   "cell_type": "markdown",
   "id": "4d682ac2",
   "metadata": {},
   "source": [
    "## 8. List Comprehensions\n",
    "A concise way to create lists."
   ]
  },
  {
   "cell_type": "code",
   "execution_count": 44,
   "id": "be9df32c",
   "metadata": {},
   "outputs": [
    {
     "name": "stdout",
     "output_type": "stream",
     "text": [
      "[0, 1, 4, 9, 16]\n"
     ]
    }
   ],
   "source": [
    "squares = [x**2 for x in range(5)]\n",
    "print(squares)"
   ]
  },
  {
   "cell_type": "markdown",
   "id": "fd9b2186",
   "metadata": {},
   "source": [
    "# Intermediate and Advanced List Operations\n",
    "This section covers more advanced list operations and techniques."
   ]
  },
  {
   "cell_type": "markdown",
   "id": "dab502d2",
   "metadata": {},
   "source": [
    "## 9. Nested Lists and Multidimensional Lists\n",
    "Lists can contain other lists, allowing for multidimensional data structures."
   ]
  },
  {
   "cell_type": "code",
   "execution_count": 45,
   "id": "2d5fe774",
   "metadata": {},
   "outputs": [
    {
     "name": "stdout",
     "output_type": "stream",
     "text": [
      "[1, 2, 3]\n",
      "6\n",
      "[1, 2, 3, 4, 5, 6, 7, 8, 9]\n"
     ]
    }
   ],
   "source": [
    "matrix = [[1, 2, 3], [4, 5, 6], [7, 8, 9]]\n",
    "print(matrix[0])        # First row\n",
    "print(matrix[1][2])     # Element at row 2, column 3\n",
    "# List comprehension for flattening a matrix\n",
    "flat = [item for row in matrix for item in row]\n",
    "print(flat)"
   ]
  },
  {
   "cell_type": "markdown",
   "id": "5f44412a",
   "metadata": {},
   "source": [
    "## 10. Advanced List Comprehensions\n",
    "List comprehensions can include conditions and more complex expressions."
   ]
  },
  {
   "cell_type": "code",
   "execution_count": 46,
   "id": "bb8fde3c",
   "metadata": {},
   "outputs": [
    {
     "name": "stdout",
     "output_type": "stream",
     "text": [
      "[0, 4, 16, 36, 64]\n",
      "[[1, 4], [2, 5], [3, 6]]\n"
     ]
    }
   ],
   "source": [
    "# Squares of even numbers from 0 to 9\n",
    "evens = [x**2 for x in range(10) if x % 2 == 0]\n",
    "print(evens)\n",
    "# Nested list comprehension for transposing a matrix\n",
    "matrix = [[1, 2, 3], [4, 5, 6]]\n",
    "transpose = [[row[i] for row in matrix] for i in range(3)]\n",
    "print(transpose)"
   ]
  },
  {
   "cell_type": "markdown",
   "id": "880c81a2",
   "metadata": {},
   "source": [
    "## 11. Using map, filter, and reduce with Lists\n",
    "These functions allow functional-style operations on lists."
   ]
  },
  {
   "cell_type": "code",
   "execution_count": 47,
   "id": "171447c9",
   "metadata": {},
   "outputs": [
    {
     "name": "stdout",
     "output_type": "stream",
     "text": [
      "[1, 4, 9, 16, 25]\n",
      "[2, 4]\n",
      "15\n"
     ]
    }
   ],
   "source": [
    "nums = [1, 2, 3, 4, 5]\n",
    "# map: square each number\n",
    "squared = list(map(lambda x: x**2, nums))\n",
    "print(squared)\n",
    "# filter: keep only even numbers\n",
    "evens = list(filter(lambda x: x % 2 == 0, nums))\n",
    "print(evens)\n",
    "# reduce: sum all numbers\n",
    "from functools import reduce\n",
    "total = reduce(lambda x, y: x + y, nums)\n",
    "print(total)"
   ]
  },
  {
   "cell_type": "markdown",
   "id": "2f8d0820",
   "metadata": {},
   "source": [
    "## 12. Unpacking Lists and the * Operator\n",
    "You can unpack lists into variables and use * to collect or expand elements."
   ]
  },
  {
   "cell_type": "code",
   "execution_count": 48,
   "id": "b38e2c7b",
   "metadata": {},
   "outputs": [
    {
     "name": "stdout",
     "output_type": "stream",
     "text": [
      "10 20 [30, 40, 50]\n",
      "6\n"
     ]
    }
   ],
   "source": [
    "a, b, *rest = [10, 20, 30, 40, 50]\n",
    "print(a, b, rest)\n",
    "# Using * to expand lists in function calls\n",
    "def add(x, y, z):\n",
    "    return x + y + z\n",
    "nums = [1, 2, 3]\n",
    "print(add(*nums))"
   ]
  },
  {
   "cell_type": "markdown",
   "id": "f28ce37b",
   "metadata": {},
   "source": [
    "## 13. Advanced List Methods and Summary\n",
    "- `count(value)`: Count occurrences of a value\n",
    "- `index(value)`: Find the index of a value\n",
    "- `copy()`: Shallow copy of a list\n",
    "- `clear()`: Remove all items\n",
    "\n",
    "Lists are powerful and flexible. Mastering them is key to effective Python programming!"
   ]
  },
  {
   "cell_type": "code",
   "execution_count": 49,
   "id": "0681dde0",
   "metadata": {},
   "outputs": [
    {
     "name": "stdout",
     "output_type": "stream",
     "text": [
      "3\n",
      "3\n",
      "[1, 2, 2, 3, 4, 2]\n",
      "[]\n"
     ]
    }
   ],
   "source": [
    "lst = [1, 2, 2, 3, 4, 2]\n",
    "print(lst.count(2))   # Count occurrences of 2\n",
    "print(lst.index(3))   # Index of value 3\n",
    "copy_lst = lst.copy()\n",
    "print(copy_lst)        # Shallow copy\n",
    "lst.clear()\n",
    "print(lst)             # Now empty"
   ]
  },
  {
   "cell_type": "markdown",
   "id": "0112cb86",
   "metadata": {},
   "source": []
  },
  {
   "cell_type": "markdown",
   "id": "423e6e16",
   "metadata": {},
   "source": [
    "### Problem 1\n",
    "Given a list of integers, print the sum of all even numbers in the list."
   ]
  },
  {
   "cell_type": "code",
   "execution_count": 52,
   "id": "60d28963",
   "metadata": {},
   "outputs": [
    {
     "name": "stdout",
     "output_type": "stream",
     "text": [
      "[2, 4, 6, 8, 10]\n",
      "30\n"
     ]
    }
   ],
   "source": [
    "list_integers = [1, 2, 3, 4, 5,6,7,8,9,10]\n",
    "even = [x for x in list_integers if x % 2 == 0]\n",
    "print(even)\n",
    "print(sum(even))  # Sum of even numbers"
   ]
  },
  {
   "cell_type": "markdown",
   "id": "d7f2d47d",
   "metadata": {},
   "source": [
    "### Problem 2\n",
    "Given a list of numbers, write a program to find the second largest number in the list."
   ]
  },
  {
   "cell_type": "code",
   "execution_count": 60,
   "id": "592fd728",
   "metadata": {},
   "outputs": [
    {
     "name": "stdout",
     "output_type": "stream",
     "text": [
      "[2, 5, 6, 8, 15, 18, 20, 21, 25, 30]\n",
      "25\n",
      "5\n",
      "Second largest: 25\n"
     ]
    }
   ],
   "source": [
    "#method 1 - O(n log n) time complexity\n",
    "list_numbers = [2,5,8,6,15,20,30,21,25,18]\n",
    "list_numbers.sort()   #O(n log n) time complexity\n",
    "print(list_numbers)\n",
    "print(list_numbers[-2])  # second largest number\n",
    "print(list_numbers[1])  # second smallest number\n",
    "\n",
    "\n",
    "#method2 - O(n) time complexity\n",
    "def second_largest_smallest(lst):\n",
    "    if len(lst) < 2:\n",
    "        return None, None  \n",
    "    first = float('-inf')\n",
    "    second = float('-inf')\n",
    "    for number in lst:\n",
    "        if number > first:\n",
    "            second = first\n",
    "            first = number\n",
    "        elif first > number > second:\n",
    "            second = number\n",
    "    print(\"Second largest:\", second)\n",
    "\n",
    "second_largest_smallest(list_numbers)\n"
   ]
  },
  {
   "cell_type": "markdown",
   "id": "9f497f62",
   "metadata": {},
   "source": [
    "### Problem 3\n",
    "Given a list, write a program to reverse the list without using the built-in reverse() method or slicing."
   ]
  },
  {
   "cell_type": "code",
   "execution_count": 62,
   "id": "5bbeae34",
   "metadata": {},
   "outputs": [
    {
     "name": "stdout",
     "output_type": "stream",
     "text": [
      "[5, 4, 3, 2, 1]\n"
     ]
    }
   ],
   "source": [
    "lst = [1, 2, 3, 4, 5]\n",
    "reverse_list = []\n",
    "n = len(lst)\n",
    "for i in range(n):\n",
    "    reverse_list.append(lst[n-1-i])\n",
    "print(reverse_list)  # Reversed list using a loop\n"
   ]
  },
  {
   "cell_type": "code",
   "execution_count": null,
   "id": "6c6bea5e",
   "metadata": {},
   "outputs": [],
   "source": []
  },
  {
   "cell_type": "markdown",
   "id": "ecddac4c",
   "metadata": {},
   "source": [
    "### Problem 5\n",
    "Given a list and an integer k, rotate the list to the right by k steps. For example, [1,2,3,4,5] rotated by 2 becomes [4,5,1,2,3]."
   ]
  },
  {
   "cell_type": "code",
   "execution_count": 70,
   "id": "d6b218ab",
   "metadata": {},
   "outputs": [
    {
     "name": "stdout",
     "output_type": "stream",
     "text": [
      "[4, 5]\n",
      "[1, 2, 3]\n",
      "[4, 5, 1, 2, 3]\n"
     ]
    }
   ],
   "source": [
    "lst = [1, 2, 3, 4, 5]\n",
    "k = 2\n",
    "lst1 = lst[-k:]\n",
    "lst2 = lst[:-k]\n",
    "print(lst1)  # Elements after index k\n",
    "print(lst2)  # Elements before index k\n",
    "print(lst1 + lst2)  # Concatenated list"
   ]
  },
  {
   "cell_type": "markdown",
   "id": "a07b7649",
   "metadata": {},
   "source": [
    "### Problem 6\n",
    "Given a list of integers and a target sum, print all unique pairs of numbers from the list that add up to the target sum."
   ]
  },
  {
   "cell_type": "code",
   "execution_count": null,
   "id": "d21ff4fe",
   "metadata": {},
   "outputs": [],
   "source": []
  },
  {
   "cell_type": "markdown",
   "id": "3fa42833",
   "metadata": {},
   "source": [
    "### Problem 7\n",
    "Given a nested list of arbitrary depth, write a function to flatten it into a single list of values. For example, [1, [2, [3, 4], 5], 6] should become [1, 2, 3, 4, 5, 6]."
   ]
  },
  {
   "cell_type": "code",
   "execution_count": null,
   "id": "0a1ef254",
   "metadata": {},
   "outputs": [],
   "source": []
  },
  {
   "cell_type": "markdown",
   "id": "891d9df3",
   "metadata": {},
   "source": [
    "### Problem 8\n",
    "Given a list of integers, write a program to find the longest increasing subsequence (not necessarily contiguous) in the list."
   ]
  },
  {
   "cell_type": "code",
   "execution_count": null,
   "id": "013c30db",
   "metadata": {},
   "outputs": [],
   "source": []
  },
  {
   "cell_type": "markdown",
   "id": "dc28726d",
   "metadata": {},
   "source": [
    "### Problem 9\n",
    "Given a list, write a program to print all possible permutations of the elements in the list."
   ]
  },
  {
   "cell_type": "code",
   "execution_count": null,
   "id": "b53606eb",
   "metadata": {},
   "outputs": [],
   "source": []
  }
 ],
 "metadata": {
  "kernelspec": {
   "display_name": "Python 3",
   "language": "python",
   "name": "python3"
  },
  "language_info": {
   "codemirror_mode": {
    "name": "ipython",
    "version": 3
   },
   "file_extension": ".py",
   "mimetype": "text/x-python",
   "name": "python",
   "nbconvert_exporter": "python",
   "pygments_lexer": "ipython3",
   "version": "3.13.2"
  }
 },
 "nbformat": 4,
 "nbformat_minor": 5
}

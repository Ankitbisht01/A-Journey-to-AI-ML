{
 "cells": [
  {
   "cell_type": "markdown",
   "id": "7a4197d8",
   "metadata": {},
   "source": [
    "# Python Strings\n",
    "This notebook covers strings in Python and common operations including indexing and slicing."
   ]
  },
  {
   "cell_type": "markdown",
   "id": "53410e50",
   "metadata": {},
   "source": [
    "## 1. What is a String?\n",
    "A string is a sequence of characters enclosed in single, double, or triple quotes."
   ]
  },
  {
   "cell_type": "code",
   "execution_count": null,
   "id": "7e217ace",
   "metadata": {},
   "outputs": [],
   "source": [
    "s1 = 'Hello'\n",
    "s2 = \"World\"\n",
    "s3 = '''Python'''\n",
    "print(s1, s2, s3)"
   ]
  },
  {
   "cell_type": "markdown",
   "id": "3f178d9b",
   "metadata": {},
   "source": [
    "## 2. String Indexing\n",
    "You can access individual characters in a string using indexing. Indexing starts at 0."
   ]
  },
  {
   "cell_type": "code",
   "execution_count": null,
   "id": "fffe9514",
   "metadata": {},
   "outputs": [],
   "source": [
    "text = 'Python'\n",
    "print(text[0])   # P\n",
    "print(text[3])   # h"
   ]
  },
  {
   "cell_type": "markdown",
   "id": "e853282c",
   "metadata": {},
   "source": [
    "## 3. String Slicing\n",
    "Slicing allows you to get a substring using the syntax string[start:end]."
   ]
  },
  {
   "cell_type": "code",
   "execution_count": null,
   "id": "24a5c5c1",
   "metadata": {},
   "outputs": [],
   "source": [
    "text = 'Python'\n",
    "print(text[1:4])   # yth\n",
    "print(text[:2])    # Py\n",
    "print(text[2:])    # thon"
   ]
  },
  {
   "cell_type": "markdown",
   "id": "8f69abc4",
   "metadata": {},
   "source": [
    "## 4. Common String Operations\n",
    "Strings support many operations such as concatenation, repetition, length, and methods."
   ]
  },
  {
   "cell_type": "code",
   "execution_count": null,
   "id": "85e9d0fb",
   "metadata": {},
   "outputs": [],
   "source": [
    "a = 'Hello'\n",
    "b = 'World'\n",
    "print(a + ' ' + b)      # Concatenation\n",
    "print(a * 3)            # Repetition\n",
    "print(len(a))           # Length\n",
    "print(a.upper())        # Uppercase\n",
    "print(b.lower())        # Lowercase\n",
    "print(a.replace('H', 'J')) # Replace"
   ]
  },
  {
   "cell_type": "markdown",
   "id": "508b1637",
   "metadata": {},
   "source": [
    "## 5. String Immutability\n",
    "Strings are immutable, meaning you cannot change them in place. You must create a new string."
   ]
  },
  {
   "cell_type": "code",
   "execution_count": null,
   "id": "b68c1363",
   "metadata": {},
   "outputs": [],
   "source": [
    "s = 'Python'\n",
    "# s[0] = 'J'  # This will cause an error\n",
    "s = 'Jython'  # Create a new string\n",
    "print(s)"
   ]
  }
 ],
 "metadata": {
  "language_info": {
   "name": "python"
  }
 },
 "nbformat": 4,
 "nbformat_minor": 5
}

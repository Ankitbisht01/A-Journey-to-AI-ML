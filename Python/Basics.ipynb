{
 "cells": [
  {
   "cell_type": "markdown",
   "id": "6ce81fb6",
   "metadata": {},
   "source": [
    "# Python Basics\n",
    "This notebook covers the basics of Python programming with examples."
   ]
  },
  {
   "cell_type": "code",
   "execution_count": 1,
   "id": "c3f2e42d",
   "metadata": {},
   "outputs": [
    {
     "name": "stdout",
     "output_type": "stream",
     "text": [
      "Hello, World!\n"
     ]
    }
   ],
   "source": [
    "print(\"Hello, World!\")  # Prints Hello, World!"
   ]
  },
  {
   "cell_type": "markdown",
   "id": "ba2f80d3",
   "metadata": {},
   "source": [
    "## 2. Variables\n",
    "Variables are used to store data. You can assign values to variables using the = operator."
   ]
  },
  {
   "cell_type": "code",
   "execution_count": 2,
   "id": "ffe2d73d",
   "metadata": {},
   "outputs": [
    {
     "name": "stdout",
     "output_type": "stream",
     "text": [
      "5\n",
      "Python\n"
     ]
    }
   ],
   "source": [
    "x = 5\n",
    "y = 'Python'\n",
    "print(x)      # Prints 5\n",
    "print(y)      # Prints Python"
   ]
  },
  {
   "cell_type": "markdown",
   "id": "15082568",
   "metadata": {},
   "source": [
    "## 3. Data Types\n",
    "Python has several built-in data types: int, float, str, bool, list, tuple, dict, set."
   ]
  },
  {
   "cell_type": "code",
   "execution_count": 3,
   "id": "2c6125be",
   "metadata": {},
   "outputs": [
    {
     "name": "stdout",
     "output_type": "stream",
     "text": [
      "<class 'int'> <class 'float'> <class 'str'> <class 'bool'> <class 'list'> <class 'tuple'> <class 'dict'> <class 'set'>\n"
     ]
    }
   ],
   "source": [
    "a = 10          # int\n",
    "b = 3.14        # float\n",
    "c = 'Hello'     # str\n",
    "d = True        # bool\n",
    "e = [1, 2, 3]   # list\n",
    "f = (4, 5, 6)   # tuple\n",
    "g = {'x': 1}    # dict\n",
    "h = {7, 8, 9}   # set\n",
    "print(type(a), type(b), type(c), type(d), type(e), type(f), type(g), type(h) )"
   ]
  },
  {
   "cell_type": "markdown",
   "id": "3ae644c5",
   "metadata": {},
   "source": [
    "## 4. Conditional Statements\n",
    "Conditional statements are used to perform actions based on conditions."
   ]
  },
  {
   "cell_type": "code",
   "execution_count": 4,
   "id": "5ebb228d",
   "metadata": {},
   "outputs": [
    {
     "name": "stdout",
     "output_type": "stream",
     "text": [
      "Greater than 5\n"
     ]
    }
   ],
   "source": [
    "num = 10\n",
    "if num > 5:\n",
    "    print('Greater than 5')\n",
    "else:\n",
    "    print('5 or less')"
   ]
  },
  {
   "cell_type": "markdown",
   "id": "faa09f4f",
   "metadata": {},
   "source": [
    "## 5. Loops\n",
    "Loops are used to repeat actions. Python supports for and while loops."
   ]
  },
  {
   "cell_type": "code",
   "execution_count": 5,
   "id": "1e3df2af",
   "metadata": {},
   "outputs": [
    {
     "name": "stdout",
     "output_type": "stream",
     "text": [
      "0\n",
      "1\n",
      "2\n",
      "0\n",
      "1\n",
      "2\n"
     ]
    }
   ],
   "source": [
    "# For loop\n",
    "for i in range(3):\n",
    "    print(i)\n",
    "# While loop\n",
    "count = 0\n",
    "while count < 3:\n",
    "    print(count)\n",
    "    count += 1"
   ]
  },
  {
   "cell_type": "markdown",
   "id": "b69e7ce7",
   "metadata": {},
   "source": [
    "## 6. Functions\n",
    "Functions are reusable blocks of code. Define a function using def."
   ]
  },
  {
   "cell_type": "code",
   "execution_count": 6,
   "id": "c245280c",
   "metadata": {},
   "outputs": [
    {
     "name": "stdout",
     "output_type": "stream",
     "text": [
      "Hello, Alice!\n"
     ]
    }
   ],
   "source": [
    "def greet(name):\n",
    "    return f'Hello, {name}!'\n",
    "print(greet('Alice'))"
   ]
  },
  {
   "cell_type": "markdown",
   "id": "318c99d6",
   "metadata": {},
   "source": [
    "# Simple print statement"
   ]
  },
  {
   "cell_type": "code",
   "execution_count": 7,
   "id": "24d75c2c",
   "metadata": {},
   "outputs": [
    {
     "name": "stdout",
     "output_type": "stream",
     "text": [
      "Hello, World!\n"
     ]
    }
   ],
   "source": [
    "print(\"Hello, World!\")"
   ]
  }
 ],
 "metadata": {
  "kernelspec": {
   "display_name": "Python 3",
   "language": "python",
   "name": "python3"
  },
  "language_info": {
   "codemirror_mode": {
    "name": "ipython",
    "version": 3
   },
   "file_extension": ".py",
   "mimetype": "text/x-python",
   "name": "python",
   "nbconvert_exporter": "python",
   "pygments_lexer": "ipython3",
   "version": "3.13.2"
  }
 },
 "nbformat": 4,
 "nbformat_minor": 5
}
